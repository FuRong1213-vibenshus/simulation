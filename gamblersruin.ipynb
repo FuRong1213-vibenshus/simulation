{
  "nbformat": 4,
  "nbformat_minor": 0,
  "metadata": {
    "colab": {
      "provenance": [],
      "authorship_tag": "ABX9TyMNyQHvGL+H//l008Q/m6Ml",
      "include_colab_link": true
    },
    "kernelspec": {
      "name": "python3",
      "display_name": "Python 3"
    },
    "language_info": {
      "name": "python"
    }
  },
  "cells": [
    {
      "cell_type": "markdown",
      "metadata": {
        "id": "view-in-github",
        "colab_type": "text"
      },
      "source": [
        "<a href=\"https://colab.research.google.com/github/FuRong1213-vibenshus/simulation/blob/main/gamblersruin.ipynb\" target=\"_parent\"><img src=\"https://colab.research.google.com/assets/colab-badge.svg\" alt=\"Open In Colab\"/></a>"
      ]
    },
    {
      "cell_type": "markdown",
      "source": [
        "## Gambler's Ruin\n",
        "\n",
        "Gambler's ruin is the fact that a gambler playing a game with negative expected value will eventually go bankrupt, regardless of their betting system. (ref:wikipedia). The gamblers ruin problem is a particularly good example in demonstrating usage of the monte carlo simulation, and eventually a good application applying Random Walks in one dimonsion.\n",
        "\n",
        "    Suppose we start with n dollars, and make a sequence of bets.\n",
        "    For each bet, we win 1 dollar with probability p, and lose with probability 1-p.\n",
        "    We quit if either we go broke, in which case we lose, or when we reach T = m+n dollars, that is, when we win m dollars.\n",
        "---\n",
        "\n",
        "We are going to illustrate how easily the gambler is going to go bankrupt when playing with a casino (which means the possibility to win is biased), even the gambler is willing to quit the game after winning a certain amount."
      ],
      "metadata": {
        "id": "e6DG6jTI9Bzm"
      }
    },
    {
      "cell_type": "code",
      "execution_count": 24,
      "metadata": {
        "id": "R5Ye4VEW86RM"
      },
      "outputs": [],
      "source": []
    },
    {
      "cell_type": "code",
      "source": [
        "import random\n",
        "\n",
        "def gambleRandomWalk(p, n, m, numofTrials):\n",
        "  numofWin = 0\n",
        "  T = m + n\n",
        "  for _ in range(numofTrials):\n",
        "    gamblersWallet = n\n",
        "    while 0<gamblersWallet<T:\n",
        "      k = random.random()\n",
        "      if k<p:\n",
        "        gamblersWallet += 1\n",
        "      else:\n",
        "        gamblersWallet -= 1\n",
        "    if gamblersWallet>=T:\n",
        "      numofWin+=1\n",
        "\n",
        "  return numofWin/numofTrials\n",
        "\n",
        "w = gambleRandomWalk(p=0.475, n=100 ,m=100, numofTrials=50000)\n",
        "print(f\"the possibility to win the game is: {w:.8f}\")"
      ],
      "metadata": {
        "colab": {
          "base_uri": "https://localhost:8080/"
        },
        "id": "MW50svURV2Y-",
        "outputId": "ec07e5ad-c239-4bf3-a23f-180414c123e2"
      },
      "execution_count": 10,
      "outputs": [
        {
          "output_type": "stream",
          "name": "stdout",
          "text": [
            "the possibility to win the game is: 0.00008000\n"
          ]
        }
      ]
    },
    {
      "cell_type": "code",
      "source": [
        "# TODO -- 1\n",
        "# Complete the function gambleRandomWalk\n",
        "# This function simulate a gambler, who is playing a game with possibility p\n",
        "# to win a dollar\n",
        "# The function should return the possibilty in earning m dollar before going bankrupt.\n",
        "import random\n",
        "\n",
        "def gambleRandomWalk(p, n, m, numofTrials):\n",
        "  numofWin = 0\n",
        "  T = m + n\n",
        "  for _ in range(numofTrials):\n",
        "      gamblersWallet = n\n",
        "\n",
        "      if gamblersWallet >=T:\n",
        "        numofWin += 1\n",
        "  return numofWin/numofTrials\n",
        "\n",
        "w = gambleRandomWalk(p=0.475, n=100 ,m=100, numofTrials=50000)\n",
        "print(f\"the possibility to win the game is: {w:.8f}\")\n",
        "\n",
        "# TODO -- 2\n",
        "# Design several secnarios to show the relationship between the winning possibility p\n",
        "# Gamblers stop point and the possibility to win m dollars before going bankrupt.\n"
      ],
      "metadata": {
        "id": "L6PoFRCgo_Tt"
      },
      "execution_count": null,
      "outputs": []
    }
  ]
}