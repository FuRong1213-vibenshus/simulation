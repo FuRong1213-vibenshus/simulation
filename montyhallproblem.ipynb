{
  "nbformat": 4,
  "nbformat_minor": 0,
  "metadata": {
    "colab": {
      "provenance": [],
      "authorship_tag": "ABX9TyMzriHsqiElA0rQwvoJMGkp",
      "include_colab_link": true
    },
    "kernelspec": {
      "name": "python3",
      "display_name": "Python 3"
    },
    "language_info": {
      "name": "python"
    }
  },
  "cells": [
    {
      "cell_type": "markdown",
      "metadata": {
        "id": "view-in-github",
        "colab_type": "text"
      },
      "source": [
        "<a href=\"https://colab.research.google.com/github/FuRong1213-vibenshus/simulation/blob/main/montyhallproblem.ipynb\" target=\"_parent\"><img src=\"https://colab.research.google.com/assets/colab-badge.svg\" alt=\"Open In Colab\"/></a>"
      ]
    },
    {
      "cell_type": "markdown",
      "source": [
        "## Monty Hall Problem\n",
        "The Monty Hall problem is a counter-intuitive brain teaser based on probabilities.\n",
        "\n",
        "This puzzle is named after Monty Hall, the TV presenter of “Let’s Make a Deal”, an American TV show (known as “Deal or No Deal” in the UK) where contenders swap boxes of different values in order to win a prize.\n",
        "\n",
        "\n",
        "    The player of the monty hall game is suppose to win a car by knocking on the right door.\n",
        "    He/she is presented with three closed doors. Behind one of these is a car, while the others are simply a goat.\n",
        "    \n",
        "      - You first pick a door. It could be that you picked the door with the car but you do not know that yet!\n",
        "      - The game show host examines the other two doors and opens one with a goat.\n",
        "      (Note that when both doors are hiding a goat, the presenter picks one of these doors randomly.)\n",
        "      - You then need to make a decision: You can either stick with your initial guess and open the door to see if you win the car.\n",
        "      Alternatively, you can decide to switch your door with the other closed door!\n",
        "\n",
        "The odd thing of this game is, the player is twice likely to win the car by switching the door, i.e, drop the initial choice and go for the other door which is not opened by the host.\n",
        "\n",
        "---\n",
        "The math proof is not difficult, however we are going to confirm the conclusion by monte carlo simulation, simply by  \n",
        "- Running this game for 100, 1000, 10000 times.\n",
        "- The game should be played by two different strategies, holding"
      ],
      "metadata": {
        "id": "UM62p3mBnl4O"
      }
    },
    {
      "cell_type": "code",
      "execution_count": null,
      "metadata": {
        "id": "ia51jDeynKQe"
      },
      "outputs": [],
      "source": []
    }
  ]
}