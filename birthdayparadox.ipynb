{
  "nbformat": 4,
  "nbformat_minor": 0,
  "metadata": {
    "colab": {
      "provenance": [],
      "authorship_tag": "ABX9TyMkPGrQvRNZljs5zpMsXuis",
      "include_colab_link": true
    },
    "kernelspec": {
      "name": "python3",
      "display_name": "Python 3"
    },
    "language_info": {
      "name": "python"
    }
  },
  "cells": [
    {
      "cell_type": "markdown",
      "metadata": {
        "id": "view-in-github",
        "colab_type": "text"
      },
      "source": [
        "<a href=\"https://colab.research.google.com/github/FuRong1213-vibenshus/simulation/blob/main/birthdayparadox.ipynb\" target=\"_parent\"><img src=\"https://colab.research.google.com/assets/colab-badge.svg\" alt=\"Open In Colab\"/></a>"
      ]
    },
    {
      "cell_type": "code",
      "execution_count": null,
      "metadata": {
        "id": "jVcPEu9BcsQP"
      },
      "outputs": [],
      "source": []
    },
    {
      "cell_type": "code",
      "source": [],
      "metadata": {
        "id": "QE7GlB2Kd7h1"
      },
      "execution_count": null,
      "outputs": []
    },
    {
      "cell_type": "markdown",
      "source": [
        "## Birthday Problem\n",
        "The birthday problem is a classic probability puzzle that asks:\n",
        "- What is the probability that, in a group of N people, at least two share the same birthday?\n",
        "\n",
        "Since the answer is surprisingly different from most peoples guess, the problem often refers to the so called **birthday paradox**. It shows the fact that only 23 people are needed for the probability to exceed 50%.\n",
        "---"
      ],
      "metadata": {
        "id": "FbjQMgcDdSmz"
      }
    },
    {
      "cell_type": "markdown",
      "source": [
        "---\n",
        "\n",
        "Now we are going to illustrate the relationship between the group size and probabilities that **at least** two have the same birthday, by making a monte carlo simulation."
      ],
      "metadata": {
        "id": "lpaMSwf_kvWX"
      }
    },
    {
      "cell_type": "code",
      "source": [
        "import random\n",
        "def birthday_problem(N: int):\n",
        "  ## TODO -- 1\n",
        "  ##     Use method random.choices() (https://www.w3schools.com/python/ref_random_choices.asp) to choose N birthdays from number list 1 to 365.\n",
        "  ## TODO -- 2\n",
        "  ##     Find out if there are at least two same numbers out of the N chosen numbers.\n",
        "  ##     Return True if there is, otherwise False"
      ],
      "metadata": {
        "id": "Cxe2lfG7hj7Q"
      },
      "execution_count": null,
      "outputs": []
    },
    {
      "cell_type": "code",
      "source": [
        "def simulation(num_of_runs):\n",
        "  ## TODO -- 3\n",
        "  ##"
      ],
      "metadata": {
        "id": "NjoSzHpXkq1k"
      },
      "execution_count": null,
      "outputs": []
    }
  ]
}