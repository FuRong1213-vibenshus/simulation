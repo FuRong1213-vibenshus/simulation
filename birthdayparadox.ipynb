{
  "nbformat": 4,
  "nbformat_minor": 0,
  "metadata": {
    "colab": {
      "provenance": [],
      "authorship_tag": "ABX9TyOwgrNmdZYpwQ68GHo8UtHB",
      "include_colab_link": true
    },
    "kernelspec": {
      "name": "python3",
      "display_name": "Python 3"
    },
    "language_info": {
      "name": "python"
    }
  },
  "cells": [
    {
      "cell_type": "markdown",
      "metadata": {
        "id": "view-in-github",
        "colab_type": "text"
      },
      "source": [
        "<a href=\"https://colab.research.google.com/github/FuRong1213-vibenshus/simulation/blob/main/birthdayparadox.ipynb\" target=\"_parent\"><img src=\"https://colab.research.google.com/assets/colab-badge.svg\" alt=\"Open In Colab\"/></a>"
      ]
    },
    {
      "cell_type": "markdown",
      "source": [
        "## Birthday Problem\n",
        "The birthday problem is a classic probability puzzle that asks:\n",
        "- What is the probability that, in a group of N people, at least two share the same birthday?\n",
        "\n",
        "Since the answer is surprisingly different from most peoples guess, the problem often refers to the so called **birthday paradox**. It shows the fact that only 23 people are needed for the probability to exceed 50%.\n",
        "---"
      ],
      "metadata": {
        "id": "FbjQMgcDdSmz"
      }
    },
    {
      "cell_type": "markdown",
      "source": [
        "---\n",
        "\n",
        "Now we are going to illustrate the relationship between the group size and probabilities that **at least** two have the same birthday, by making a monte carlo simulation."
      ],
      "metadata": {
        "id": "lpaMSwf_kvWX"
      }
    },
    {
      "cell_type": "code",
      "source": [
        "import random\n",
        "def hasdup(listofChoices):\n",
        "  # This function takes a list as input parameter\n",
        "  # return True if there are at least two elements in the list are the same otherwise False\n",
        "  # TODO -- 3\n",
        "  #    Implement the function by applying data type set (https://www.w3schools.com/python/python_sets.asp)\n",
        "  #    to check if the set lengh is different than the list lengh\n",
        "  #        len(listofChoice) == len(set(listofChoice))\n",
        "\n",
        "def birthday_problem(N, num_of_trials):\n",
        "  # TODO -- 1\n",
        "  #    Use method random.choices() (https://www.w3schools.com/python/ref_random_choices.asp)\n",
        "  #    to choose N birthdays from number list 1 to 365.\n",
        "  # TODO -- 2\n",
        "  #    Find out if there are at least two same numbers out of the N chosen numbers\n",
        "  #    by calling function hasdup\n",
        "  # TODO -- 4\n",
        "  #    Run the simulation many times (num_of_trials) to\n",
        "  #    find out the possibility of at least two have same birthday for group size N by\n",
        "  #          p = num_of_true/num_of_trials\n",
        "birthday_problem(N=100, num_of_trials=1000)"
      ],
      "metadata": {
        "id": "Cxe2lfG7hj7Q"
      },
      "execution_count": null,
      "outputs": []
    },
    {
      "cell_type": "code",
      "source": [
        "import matplotlib.pyplot as plt\n",
        "def simulation(num_of_trials):\n",
        "\n",
        "  # TODO -- 5\n",
        "  #    Calling the function birthday_problem with different parameter N (for example: 2, 3, 4, ... 100)\n",
        "  #    Place the returned value in a list, print the list to show the possibilities of different group size\n",
        "  # TODO -- 6\n",
        "  #    Plot the result by refering https://matplotlib.org/2.0.2/users/pyplot_tutorial.html\n",
        "  #    x: the group size\n",
        "  #    y: the possibilities for at least two persons have the same birthday"
      ],
      "metadata": {
        "id": "NjoSzHpXkq1k"
      },
      "execution_count": null,
      "outputs": []
    }
  ]
}