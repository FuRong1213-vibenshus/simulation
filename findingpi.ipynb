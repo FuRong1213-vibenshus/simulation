{
  "nbformat": 4,
  "nbformat_minor": 0,
  "metadata": {
    "colab": {
      "provenance": [],
      "authorship_tag": "ABX9TyP6h/e7W5I+kFmUlls8JUc/",
      "include_colab_link": true
    },
    "kernelspec": {
      "name": "python3",
      "display_name": "Python 3"
    },
    "language_info": {
      "name": "python"
    }
  },
  "cells": [
    {
      "cell_type": "markdown",
      "metadata": {
        "id": "view-in-github",
        "colab_type": "text"
      },
      "source": [
        "<a href=\"https://colab.research.google.com/github/FuRong1213-vibenshus/simulation/blob/main/findingpi.ipynb\" target=\"_parent\"><img src=\"https://colab.research.google.com/assets/colab-badge.svg\" alt=\"Open In Colab\"/></a>"
      ]
    },
    {
      "cell_type": "markdown",
      "source": [
        "# Finding π\n",
        "It is easy to see how Monte Carlo simulation is useful for tackling problems in which nondeterminisum plays a role. However, Monte Carlo simulation can be used to solve problems that are not inherently stochastic, i.e. for which there is no uncertainty about outcomes.\n",
        "\n",
        "Consider π. For thousand of years people have known that there is a constant (called π)such that the circumference of a circle is equal to π*diameter. What they did not know what the value of this constant."
      ],
      "metadata": {
        "id": "mlitZf0G-qVB"
      }
    },
    {
      "cell_type": "markdown",
      "source": [
        "---\n",
        "By the definition of π, area = $π r^2$. If we use $r=1$, $\\pi= area$. But what is the area of the circle? It is suggested that we could estimate the area of a circle by a dropping a large number of needles in the vicinity of the square. The ratio of the number of needles which tips lying within the square to the number of needles with tips lying within the circle could then be used to estimate the area of the circle.\n",
        "$$\\frac{needles\\,in\\,circle}{needles\\,in\\,square} = \\frac{area\\,of \\, circle}{area\\,of\\,square} $$\n",
        "\n",
        "solving for the area of the circle\n",
        "$$area\\, of \\,circle = area\\, of \\, circle *\\frac{needles\\,in\\,circle}{needles\\,in\\,square}$$\n",
        "\n",
        "    In General, to estimate the area of some region R\n",
        "    1. Pick an enclosing region, E, such that the area of E is easy to calculate and R lies completely within E.\n",
        "    2. Pick a set of random points that lie within E.\n",
        "    3. Let F be the fraction of the points that fall within R.\n",
        "    4. Multiply the area of E by F."
      ],
      "metadata": {
        "id": "LtX97Jf5Cezf"
      }
    },
    {
      "cell_type": "code",
      "source": [
        "import random\n",
        "def throwNeedles(numNeedles):\n",
        "    # TODO --1\n",
        "    # Simulate the event \"drop needles\"\n",
        "    # choos the coordinate (x,y) of the landing point by randomly pick up two values within the area of 1*1\n",
        "    # check if the coordinate (x,y) is within the range of the circle of radius 0.5\n",
        "    # Write a for loop to check all the needles, return the number of needles, which land within the area of circle."
      ],
      "metadata": {
        "id": "rdB5KTJQBMP0"
      },
      "execution_count": null,
      "outputs": []
    },
    {
      "cell_type": "code",
      "source": [
        "def getEst(numNeedles, numTrials):\n",
        "    # TODO -- 2\n",
        "    # Call function throwNeedls many times (numTrials) within a for loop\n",
        "    # Place the result of each call into a list called estimates\n",
        "    # return the value of estimated pi by averaging the results of all values in the list"
      ],
      "metadata": {
        "id": "CM-OzKDDBQzz"
      },
      "execution_count": null,
      "outputs": []
    },
    {
      "cell_type": "code",
      "source": [
        "def estPi(percision, numTrials):\n",
        "\n",
        "\n",
        ""
      ],
      "metadata": {
        "id": "u8V9Pn26BWUH"
      },
      "execution_count": null,
      "outputs": []
    }
  ]
}